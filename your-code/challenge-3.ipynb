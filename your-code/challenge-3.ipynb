{
 "cells": [
  {
   "cell_type": "markdown",
   "metadata": {},
   "source": [
    "# Challenge 3\n",
    "\n",
    "In this challenge we will work on the `Orders` data set. In your work you will apply the thinking process and workflow we showed you in Challenge 2.\n",
    "\n",
    "You are serving as a Business Intelligence Analyst at the headquarter of an international fashion goods chain store. Your boss today asked you to do two things for her:\n",
    "\n",
    "**First, identify two groups of customers from the data set.** The first group is **VIP Customers** whose **aggregated expenses** at your global chain stores are **above the 95th percentile** (aka. 0.95 quantile). The second group is **Preferred Customers** whose **aggregated expenses** are **between the 75th and 95th percentile**.\n",
    "\n",
    "**Second, identify which country has the most of your VIP customers, and which country has the most of your VIP+Preferred Customers combined.**"
   ]
  },
  {
   "cell_type": "markdown",
   "metadata": {},
   "source": [
    "## Q1: How to identify VIP & Preferred Customers?\n",
    "\n",
    "We start by importing all the required libraries:"
   ]
  },
  {
   "cell_type": "code",
   "execution_count": 1,
   "metadata": {
    "ExecuteTime": {
     "end_time": "2021-04-02T15:20:15.782126Z",
     "start_time": "2021-04-02T15:20:15.303597Z"
    }
   },
   "outputs": [],
   "source": [
    "# import required libraries\n",
    "import numpy as np\n",
    "import pandas as pd"
   ]
  },
  {
   "cell_type": "markdown",
   "metadata": {},
   "source": [
    "Next, import `Orders` from the file `Oders.csv` located in the `data` folder into a dataframe variable called `orders`. Print the head of `orders` to overview the data:"
   ]
  },
  {
   "cell_type": "code",
   "execution_count": 2,
   "metadata": {
    "ExecuteTime": {
     "end_time": "2021-04-02T15:20:15.795706Z",
     "start_time": "2021-04-02T15:20:15.785327Z"
    }
   },
   "outputs": [],
   "source": [
    "path = '../data/Orders.csv'"
   ]
  },
  {
   "cell_type": "code",
   "execution_count": 3,
   "metadata": {
    "ExecuteTime": {
     "end_time": "2021-04-02T15:27:39.389009Z",
     "start_time": "2021-04-02T15:27:38.536216Z"
    }
   },
   "outputs": [
    {
     "data": {
      "text/html": [
       "<div>\n",
       "<style scoped>\n",
       "    .dataframe tbody tr th:only-of-type {\n",
       "        vertical-align: middle;\n",
       "    }\n",
       "\n",
       "    .dataframe tbody tr th {\n",
       "        vertical-align: top;\n",
       "    }\n",
       "\n",
       "    .dataframe thead th {\n",
       "        text-align: right;\n",
       "    }\n",
       "</style>\n",
       "<table border=\"1\" class=\"dataframe\">\n",
       "  <thead>\n",
       "    <tr style=\"text-align: right;\">\n",
       "      <th></th>\n",
       "      <th>Unnamed: 0</th>\n",
       "      <th>InvoiceNo</th>\n",
       "      <th>StockCode</th>\n",
       "      <th>year</th>\n",
       "      <th>month</th>\n",
       "      <th>day</th>\n",
       "      <th>hour</th>\n",
       "      <th>Description</th>\n",
       "      <th>Quantity</th>\n",
       "      <th>InvoiceDate</th>\n",
       "      <th>UnitPrice</th>\n",
       "      <th>CustomerID</th>\n",
       "      <th>Country</th>\n",
       "      <th>amount_spent</th>\n",
       "    </tr>\n",
       "  </thead>\n",
       "  <tbody>\n",
       "    <tr>\n",
       "      <th>0</th>\n",
       "      <td>0</td>\n",
       "      <td>536365</td>\n",
       "      <td>85123A</td>\n",
       "      <td>2010</td>\n",
       "      <td>12</td>\n",
       "      <td>3</td>\n",
       "      <td>8</td>\n",
       "      <td>white hanging heart t-light holder</td>\n",
       "      <td>6</td>\n",
       "      <td>2010-12-01 08:26:00</td>\n",
       "      <td>2.55</td>\n",
       "      <td>17850</td>\n",
       "      <td>United Kingdom</td>\n",
       "      <td>15.30</td>\n",
       "    </tr>\n",
       "    <tr>\n",
       "      <th>1</th>\n",
       "      <td>1</td>\n",
       "      <td>536365</td>\n",
       "      <td>71053</td>\n",
       "      <td>2010</td>\n",
       "      <td>12</td>\n",
       "      <td>3</td>\n",
       "      <td>8</td>\n",
       "      <td>white metal lantern</td>\n",
       "      <td>6</td>\n",
       "      <td>2010-12-01 08:26:00</td>\n",
       "      <td>3.39</td>\n",
       "      <td>17850</td>\n",
       "      <td>United Kingdom</td>\n",
       "      <td>20.34</td>\n",
       "    </tr>\n",
       "    <tr>\n",
       "      <th>2</th>\n",
       "      <td>2</td>\n",
       "      <td>536365</td>\n",
       "      <td>84406B</td>\n",
       "      <td>2010</td>\n",
       "      <td>12</td>\n",
       "      <td>3</td>\n",
       "      <td>8</td>\n",
       "      <td>cream cupid hearts coat hanger</td>\n",
       "      <td>8</td>\n",
       "      <td>2010-12-01 08:26:00</td>\n",
       "      <td>2.75</td>\n",
       "      <td>17850</td>\n",
       "      <td>United Kingdom</td>\n",
       "      <td>22.00</td>\n",
       "    </tr>\n",
       "    <tr>\n",
       "      <th>3</th>\n",
       "      <td>3</td>\n",
       "      <td>536365</td>\n",
       "      <td>84029G</td>\n",
       "      <td>2010</td>\n",
       "      <td>12</td>\n",
       "      <td>3</td>\n",
       "      <td>8</td>\n",
       "      <td>knitted union flag hot water bottle</td>\n",
       "      <td>6</td>\n",
       "      <td>2010-12-01 08:26:00</td>\n",
       "      <td>3.39</td>\n",
       "      <td>17850</td>\n",
       "      <td>United Kingdom</td>\n",
       "      <td>20.34</td>\n",
       "    </tr>\n",
       "    <tr>\n",
       "      <th>4</th>\n",
       "      <td>4</td>\n",
       "      <td>536365</td>\n",
       "      <td>84029E</td>\n",
       "      <td>2010</td>\n",
       "      <td>12</td>\n",
       "      <td>3</td>\n",
       "      <td>8</td>\n",
       "      <td>red woolly hottie white heart.</td>\n",
       "      <td>6</td>\n",
       "      <td>2010-12-01 08:26:00</td>\n",
       "      <td>3.39</td>\n",
       "      <td>17850</td>\n",
       "      <td>United Kingdom</td>\n",
       "      <td>20.34</td>\n",
       "    </tr>\n",
       "  </tbody>\n",
       "</table>\n",
       "</div>"
      ],
      "text/plain": [
       "   Unnamed: 0  InvoiceNo StockCode  year  month  day  hour  \\\n",
       "0           0     536365    85123A  2010     12    3     8   \n",
       "1           1     536365     71053  2010     12    3     8   \n",
       "2           2     536365    84406B  2010     12    3     8   \n",
       "3           3     536365    84029G  2010     12    3     8   \n",
       "4           4     536365    84029E  2010     12    3     8   \n",
       "\n",
       "                           Description  Quantity          InvoiceDate  \\\n",
       "0   white hanging heart t-light holder         6  2010-12-01 08:26:00   \n",
       "1                  white metal lantern         6  2010-12-01 08:26:00   \n",
       "2       cream cupid hearts coat hanger         8  2010-12-01 08:26:00   \n",
       "3  knitted union flag hot water bottle         6  2010-12-01 08:26:00   \n",
       "4       red woolly hottie white heart.         6  2010-12-01 08:26:00   \n",
       "\n",
       "   UnitPrice  CustomerID         Country  amount_spent  \n",
       "0       2.55       17850  United Kingdom         15.30  \n",
       "1       3.39       17850  United Kingdom         20.34  \n",
       "2       2.75       17850  United Kingdom         22.00  \n",
       "3       3.39       17850  United Kingdom         20.34  \n",
       "4       3.39       17850  United Kingdom         20.34  "
      ]
     },
     "execution_count": 3,
     "metadata": {},
     "output_type": "execute_result"
    }
   ],
   "source": [
    "Orders = pd.read_csv(path)\n",
    "Orders.head()"
   ]
  },
  {
   "cell_type": "markdown",
   "metadata": {},
   "source": [
    "---\n",
    "\n",
    "\"Identify VIP and Preferred Customers\" is the non-technical goal of your boss. You need to translate that goal into technical languages that data analysts use:\n",
    "\n",
    "## How to label customers whose aggregated `amount_spent` is in a given quantile range?\n"
   ]
  },
  {
   "cell_type": "markdown",
   "metadata": {},
   "source": [
    "We break down the main problem into several sub problems:\n",
    "\n",
    "#### Sub Problem 1: How to aggregate the  `amount_spent` for unique customers?\n",
    "\n",
    "#### Sub Problem 2: How to select customers whose aggregated `amount_spent` is in a given quantile range?\n",
    "\n",
    "#### Sub Problem 3: How to label selected customers as \"VIP\" or \"Preferred\"?\n",
    "\n",
    "*Note: If you want to break down the main problem in a different way, please feel free to revise the sub problems above.*\n",
    "\n",
    "Now in the workspace below, tackle each of the sub problems using the iterative problem solving workflow. Insert cells as necessary to write your codes and explain your steps."
   ]
  },
  {
   "cell_type": "code",
   "execution_count": 4,
   "metadata": {
    "ExecuteTime": {
     "end_time": "2021-04-02T15:27:53.918192Z",
     "start_time": "2021-04-02T15:27:53.737251Z"
    }
   },
   "outputs": [
    {
     "data": {
      "text/html": [
       "<div>\n",
       "<style scoped>\n",
       "    .dataframe tbody tr th:only-of-type {\n",
       "        vertical-align: middle;\n",
       "    }\n",
       "\n",
       "    .dataframe tbody tr th {\n",
       "        vertical-align: top;\n",
       "    }\n",
       "\n",
       "    .dataframe thead th {\n",
       "        text-align: right;\n",
       "    }\n",
       "</style>\n",
       "<table border=\"1\" class=\"dataframe\">\n",
       "  <thead>\n",
       "    <tr style=\"text-align: right;\">\n",
       "      <th></th>\n",
       "      <th>Unnamed: 0</th>\n",
       "      <th>InvoiceNo</th>\n",
       "      <th>year</th>\n",
       "      <th>month</th>\n",
       "      <th>day</th>\n",
       "      <th>hour</th>\n",
       "      <th>Quantity</th>\n",
       "      <th>UnitPrice</th>\n",
       "      <th>amount_spent</th>\n",
       "    </tr>\n",
       "    <tr>\n",
       "      <th>CustomerID</th>\n",
       "      <th></th>\n",
       "      <th></th>\n",
       "      <th></th>\n",
       "      <th></th>\n",
       "      <th></th>\n",
       "      <th></th>\n",
       "      <th></th>\n",
       "      <th></th>\n",
       "      <th></th>\n",
       "    </tr>\n",
       "  </thead>\n",
       "  <tbody>\n",
       "    <tr>\n",
       "      <th>14646</th>\n",
       "      <td>544561120</td>\n",
       "      <td>1163267611</td>\n",
       "      <td>4182810</td>\n",
       "      <td>14191</td>\n",
       "      <td>6552</td>\n",
       "      <td>24488</td>\n",
       "      <td>197491</td>\n",
       "      <td>5176.09</td>\n",
       "      <td>280206.02</td>\n",
       "    </tr>\n",
       "    <tr>\n",
       "      <th>18102</th>\n",
       "      <td>138022684</td>\n",
       "      <td>243297801</td>\n",
       "      <td>866723</td>\n",
       "      <td>3746</td>\n",
       "      <td>1261</td>\n",
       "      <td>5587</td>\n",
       "      <td>64124</td>\n",
       "      <td>1940.92</td>\n",
       "      <td>259657.30</td>\n",
       "    </tr>\n",
       "    <tr>\n",
       "      <th>17450</th>\n",
       "      <td>92683919</td>\n",
       "      <td>188845149</td>\n",
       "      <td>677704</td>\n",
       "      <td>2292</td>\n",
       "      <td>842</td>\n",
       "      <td>4140</td>\n",
       "      <td>69993</td>\n",
       "      <td>1143.32</td>\n",
       "      <td>194550.79</td>\n",
       "    </tr>\n",
       "    <tr>\n",
       "      <th>16446</th>\n",
       "      <td>929130</td>\n",
       "      <td>1688629</td>\n",
       "      <td>6033</td>\n",
       "      <td>22</td>\n",
       "      <td>11</td>\n",
       "      <td>27</td>\n",
       "      <td>80997</td>\n",
       "      <td>4.98</td>\n",
       "      <td>168472.50</td>\n",
       "    </tr>\n",
       "    <tr>\n",
       "      <th>14911</th>\n",
       "      <td>1737367680</td>\n",
       "      <td>3196374868</td>\n",
       "      <td>11416155</td>\n",
       "      <td>46220</td>\n",
       "      <td>18930</td>\n",
       "      <td>68148</td>\n",
       "      <td>80515</td>\n",
       "      <td>26185.72</td>\n",
       "      <td>143825.06</td>\n",
       "    </tr>\n",
       "  </tbody>\n",
       "</table>\n",
       "</div>"
      ],
      "text/plain": [
       "            Unnamed: 0   InvoiceNo      year  month    day   hour  Quantity  \\\n",
       "CustomerID                                                                    \n",
       "14646        544561120  1163267611   4182810  14191   6552  24488    197491   \n",
       "18102        138022684   243297801    866723   3746   1261   5587     64124   \n",
       "17450         92683919   188845149    677704   2292    842   4140     69993   \n",
       "16446           929130     1688629      6033     22     11     27     80997   \n",
       "14911       1737367680  3196374868  11416155  46220  18930  68148     80515   \n",
       "\n",
       "            UnitPrice  amount_spent  \n",
       "CustomerID                           \n",
       "14646         5176.09     280206.02  \n",
       "18102         1940.92     259657.30  \n",
       "17450         1143.32     194550.79  \n",
       "16446            4.98     168472.50  \n",
       "14911        26185.72     143825.06  "
      ]
     },
     "execution_count": 4,
     "metadata": {},
     "output_type": "execute_result"
    }
   ],
   "source": [
    "# Sub Problem 1:\n",
    "Amount_spent = Orders.groupby(by=[\"CustomerID\"]).sum()\n",
    "Amount_spent.sort_values(by=\"amount_spent\",ascending = False).head(5)"
   ]
  },
  {
   "cell_type": "code",
   "execution_count": 5,
   "metadata": {
    "ExecuteTime": {
     "end_time": "2021-04-02T15:33:29.312074Z",
     "start_time": "2021-04-02T15:33:29.135246Z"
    }
   },
   "outputs": [
    {
     "data": {
      "text/plain": [
       "0         casual\n",
       "251225    casual\n",
       "251224    casual\n",
       "251223    casual\n",
       "251222    casual\n",
       "           ...  \n",
       "164341       VIP\n",
       "121878       VIP\n",
       "286383       VIP\n",
       "137762       VIP\n",
       "23974        VIP\n",
       "Name: amount_spent, Length: 397924, dtype: category\n",
       "Categories (3, object): ['casual' < 'preferred' < 'VIP']"
      ]
     },
     "execution_count": 5,
     "metadata": {},
     "output_type": "execute_result"
    }
   ],
   "source": [
    "# Sub Problem 2 + 3:\n",
    "# boundaries = range of q (bins are for cut)\n",
    "# define labels\n",
    "# VIP: above 95%\n",
    "# Preferred: 75-95%\n",
    "# Rest: casual\n",
    "bin_df = pd.qcut(Orders['amount_spent'], q = [0,0.75,0.95,1], labels=[\"casual\", \"preferred\", \"VIP\"]).sort_values()\n",
    "bin_df"
   ]
  },
  {
   "cell_type": "code",
   "execution_count": 6,
   "metadata": {
    "ExecuteTime": {
     "end_time": "2021-04-02T15:36:37.948143Z",
     "start_time": "2021-04-02T15:36:37.927888Z"
    }
   },
   "outputs": [
    {
     "data": {
      "text/plain": [
       "casual       308302\n",
       "preferred     70007\n",
       "VIP           19615\n",
       "Name: amount_spent, dtype: int64"
      ]
     },
     "execution_count": 6,
     "metadata": {},
     "output_type": "execute_result"
    }
   ],
   "source": [
    "bin_df.value_counts()"
   ]
  },
  {
   "cell_type": "code",
   "execution_count": 7,
   "metadata": {
    "ExecuteTime": {
     "end_time": "2021-04-02T15:43:38.770578Z",
     "start_time": "2021-04-02T15:43:38.710642Z"
    }
   },
   "outputs": [
    {
     "data": {
      "text/html": [
       "<div>\n",
       "<style scoped>\n",
       "    .dataframe tbody tr th:only-of-type {\n",
       "        vertical-align: middle;\n",
       "    }\n",
       "\n",
       "    .dataframe tbody tr th {\n",
       "        vertical-align: top;\n",
       "    }\n",
       "\n",
       "    .dataframe thead th {\n",
       "        text-align: right;\n",
       "    }\n",
       "</style>\n",
       "<table border=\"1\" class=\"dataframe\">\n",
       "  <thead>\n",
       "    <tr style=\"text-align: right;\">\n",
       "      <th></th>\n",
       "      <th>Unnamed: 0</th>\n",
       "      <th>InvoiceNo</th>\n",
       "      <th>StockCode</th>\n",
       "      <th>year</th>\n",
       "      <th>month</th>\n",
       "      <th>day</th>\n",
       "      <th>hour</th>\n",
       "      <th>Description</th>\n",
       "      <th>Quantity</th>\n",
       "      <th>InvoiceDate</th>\n",
       "      <th>UnitPrice</th>\n",
       "      <th>CustomerID</th>\n",
       "      <th>Country</th>\n",
       "      <th>amount_spent</th>\n",
       "      <th>Label</th>\n",
       "    </tr>\n",
       "  </thead>\n",
       "  <tbody>\n",
       "    <tr>\n",
       "      <th>0</th>\n",
       "      <td>0</td>\n",
       "      <td>536365</td>\n",
       "      <td>85123A</td>\n",
       "      <td>2010</td>\n",
       "      <td>12</td>\n",
       "      <td>3</td>\n",
       "      <td>8</td>\n",
       "      <td>white hanging heart t-light holder</td>\n",
       "      <td>6</td>\n",
       "      <td>2010-12-01 08:26:00</td>\n",
       "      <td>2.55</td>\n",
       "      <td>17850</td>\n",
       "      <td>United Kingdom</td>\n",
       "      <td>15.30</td>\n",
       "      <td>casual</td>\n",
       "    </tr>\n",
       "    <tr>\n",
       "      <th>1</th>\n",
       "      <td>1</td>\n",
       "      <td>536365</td>\n",
       "      <td>71053</td>\n",
       "      <td>2010</td>\n",
       "      <td>12</td>\n",
       "      <td>3</td>\n",
       "      <td>8</td>\n",
       "      <td>white metal lantern</td>\n",
       "      <td>6</td>\n",
       "      <td>2010-12-01 08:26:00</td>\n",
       "      <td>3.39</td>\n",
       "      <td>17850</td>\n",
       "      <td>United Kingdom</td>\n",
       "      <td>20.34</td>\n",
       "      <td>preferred</td>\n",
       "    </tr>\n",
       "    <tr>\n",
       "      <th>2</th>\n",
       "      <td>2</td>\n",
       "      <td>536365</td>\n",
       "      <td>84406B</td>\n",
       "      <td>2010</td>\n",
       "      <td>12</td>\n",
       "      <td>3</td>\n",
       "      <td>8</td>\n",
       "      <td>cream cupid hearts coat hanger</td>\n",
       "      <td>8</td>\n",
       "      <td>2010-12-01 08:26:00</td>\n",
       "      <td>2.75</td>\n",
       "      <td>17850</td>\n",
       "      <td>United Kingdom</td>\n",
       "      <td>22.00</td>\n",
       "      <td>preferred</td>\n",
       "    </tr>\n",
       "    <tr>\n",
       "      <th>3</th>\n",
       "      <td>3</td>\n",
       "      <td>536365</td>\n",
       "      <td>84029G</td>\n",
       "      <td>2010</td>\n",
       "      <td>12</td>\n",
       "      <td>3</td>\n",
       "      <td>8</td>\n",
       "      <td>knitted union flag hot water bottle</td>\n",
       "      <td>6</td>\n",
       "      <td>2010-12-01 08:26:00</td>\n",
       "      <td>3.39</td>\n",
       "      <td>17850</td>\n",
       "      <td>United Kingdom</td>\n",
       "      <td>20.34</td>\n",
       "      <td>preferred</td>\n",
       "    </tr>\n",
       "    <tr>\n",
       "      <th>4</th>\n",
       "      <td>4</td>\n",
       "      <td>536365</td>\n",
       "      <td>84029E</td>\n",
       "      <td>2010</td>\n",
       "      <td>12</td>\n",
       "      <td>3</td>\n",
       "      <td>8</td>\n",
       "      <td>red woolly hottie white heart.</td>\n",
       "      <td>6</td>\n",
       "      <td>2010-12-01 08:26:00</td>\n",
       "      <td>3.39</td>\n",
       "      <td>17850</td>\n",
       "      <td>United Kingdom</td>\n",
       "      <td>20.34</td>\n",
       "      <td>preferred</td>\n",
       "    </tr>\n",
       "  </tbody>\n",
       "</table>\n",
       "</div>"
      ],
      "text/plain": [
       "   Unnamed: 0  InvoiceNo StockCode  year  month  day  hour  \\\n",
       "0           0     536365    85123A  2010     12    3     8   \n",
       "1           1     536365     71053  2010     12    3     8   \n",
       "2           2     536365    84406B  2010     12    3     8   \n",
       "3           3     536365    84029G  2010     12    3     8   \n",
       "4           4     536365    84029E  2010     12    3     8   \n",
       "\n",
       "                           Description  Quantity          InvoiceDate  \\\n",
       "0   white hanging heart t-light holder         6  2010-12-01 08:26:00   \n",
       "1                  white metal lantern         6  2010-12-01 08:26:00   \n",
       "2       cream cupid hearts coat hanger         8  2010-12-01 08:26:00   \n",
       "3  knitted union flag hot water bottle         6  2010-12-01 08:26:00   \n",
       "4       red woolly hottie white heart.         6  2010-12-01 08:26:00   \n",
       "\n",
       "   UnitPrice  CustomerID         Country  amount_spent      Label  \n",
       "0       2.55       17850  United Kingdom         15.30     casual  \n",
       "1       3.39       17850  United Kingdom         20.34  preferred  \n",
       "2       2.75       17850  United Kingdom         22.00  preferred  \n",
       "3       3.39       17850  United Kingdom         20.34  preferred  \n",
       "4       3.39       17850  United Kingdom         20.34  preferred  "
      ]
     },
     "execution_count": 7,
     "metadata": {},
     "output_type": "execute_result"
    }
   ],
   "source": [
    "Orders[\"Label\"]= bin_df\n",
    "Orders.head(5)"
   ]
  },
  {
   "cell_type": "code",
   "execution_count": 8,
   "metadata": {
    "ExecuteTime": {
     "end_time": "2021-04-02T15:45:51.743209Z",
     "start_time": "2021-04-02T15:45:51.716131Z"
    }
   },
   "outputs": [],
   "source": [
    "Orders_1 = Orders.copy()"
   ]
  },
  {
   "cell_type": "code",
   "execution_count": 9,
   "metadata": {
    "ExecuteTime": {
     "end_time": "2021-04-02T14:17:36.276570Z",
     "start_time": "2021-04-02T14:17:36.252823Z"
    }
   },
   "outputs": [],
   "source": [
    "# Cut solution:\n",
    "# variable_name = pd.cut(Orders[\"amount_spent\"], \n",
    "                             # bins = [Orders[\"amount_spent\"].quantile(0.),Orders[\"amount_spent\"].quantile(.75),Orders[\"amount_spent\"].quantile(.95),Orders[\"amount_spent\"].quantile(1.)],\n",
    "                            # labels=[\"Casual\", \"Preferred\",\"VIP\"])"
   ]
  },
  {
   "cell_type": "markdown",
   "metadata": {},
   "source": [
    "Now we'll leave it to you to solve Q2 & Q3, which you can leverage from your solution for Q1:\n",
    "\n",
    "## Q2: How to identify which country has the most VIP Customers?"
   ]
  },
  {
   "cell_type": "code",
   "execution_count": 10,
   "metadata": {
    "ExecuteTime": {
     "end_time": "2021-04-02T15:20:16.970386Z",
     "start_time": "2021-04-02T15:20:15.323Z"
    }
   },
   "outputs": [],
   "source": [
    "# your code here\n",
    "# groupy country, .count column of VIPS\n",
    "# df.groupby(column to group by).count()\n",
    "# df[df[vip column]== VIP].groupby(country).count()"
   ]
  },
  {
   "cell_type": "code",
   "execution_count": 16,
   "metadata": {
    "ExecuteTime": {
     "end_time": "2021-04-02T16:03:56.722145Z",
     "start_time": "2021-04-02T16:03:56.650941Z"
    }
   },
   "outputs": [
    {
     "data": {
      "text/plain": [
       "Label      Country             \n",
       "casual     Australia                  342\n",
       "           Austria                    280\n",
       "           Bahrain                      6\n",
       "           Belgium                   1450\n",
       "           Brazil                      17\n",
       "           Canada                     118\n",
       "           Channel Islands            449\n",
       "           Cyprus                     420\n",
       "           Czech Republic               5\n",
       "           Denmark                    163\n",
       "           EIRE                      4576\n",
       "           European Community          37\n",
       "           Finland                    408\n",
       "           France                    5606\n",
       "           Germany                   6149\n",
       "           Greece                      97\n",
       "           Iceland                    115\n",
       "           Israel                     130\n",
       "           Italy                      492\n",
       "           Japan                       80\n",
       "           Lebanon                     18\n",
       "           Lithuania                    8\n",
       "           Malta                       82\n",
       "           Netherlands                436\n",
       "           Norway                     569\n",
       "           Poland                     218\n",
       "           Portugal                  1016\n",
       "           RSA                         40\n",
       "           Saudi Arabia                 9\n",
       "           Singapore                   68\n",
       "           Spain                     1886\n",
       "           Sweden                     181\n",
       "           Switzerland               1071\n",
       "           USA                        119\n",
       "           United Arab Emirates        32\n",
       "           United Kingdom          281401\n",
       "           Unspecified                208\n",
       "preferred  Australia                  272\n",
       "           Austria                     91\n",
       "           Bahrain                      9\n",
       "           Belgium                    542\n",
       "           Brazil                      12\n",
       "           Canada                      30\n",
       "           Channel Islands            268\n",
       "           Cyprus                     170\n",
       "           Czech Republic              19\n",
       "           Denmark                    155\n",
       "           EIRE                      1947\n",
       "           European Community          23\n",
       "           Finland                    215\n",
       "           France                    2343\n",
       "           Germany                   2382\n",
       "           Greece                      28\n",
       "           Iceland                     60\n",
       "           Israel                      90\n",
       "           Italy                      247\n",
       "           Japan                       69\n",
       "           Lebanon                     21\n",
       "           Lithuania                   20\n",
       "           Malta                       26\n",
       "           Netherlands                459\n",
       "           Norway                     389\n",
       "           Poland                     102\n",
       "           Portugal                   405\n",
       "           RSA                         18\n",
       "           Saudi Arabia                 0\n",
       "           Singapore                  113\n",
       "           Spain                      470\n",
       "           Sweden                      93\n",
       "           Switzerland                592\n",
       "           USA                         56\n",
       "           United Arab Emirates        32\n",
       "           United Kingdom           58205\n",
       "           Unspecified                 34\n",
       "VIP        Australia                  571\n",
       "           Austria                     27\n",
       "           Bahrain                      2\n",
       "           Belgium                     39\n",
       "           Brazil                       3\n",
       "           Canada                       3\n",
       "           Channel Islands             31\n",
       "           Cyprus                      24\n",
       "           Czech Republic               1\n",
       "           Denmark                     62\n",
       "           EIRE                       715\n",
       "           European Community           0\n",
       "           Finland                     62\n",
       "           France                     393\n",
       "           Germany                    511\n",
       "           Greece                      20\n",
       "           Iceland                      7\n",
       "           Israel                      28\n",
       "           Italy                       19\n",
       "           Japan                      172\n",
       "           Lebanon                      6\n",
       "           Lithuania                    7\n",
       "           Malta                        4\n",
       "           Netherlands               1468\n",
       "           Norway                     114\n",
       "           Poland                      10\n",
       "           Portugal                    41\n",
       "           RSA                          0\n",
       "           Saudi Arabia                 0\n",
       "           Singapore                   41\n",
       "           Spain                      129\n",
       "           Sweden                     177\n",
       "           Switzerland                179\n",
       "           USA                          4\n",
       "           United Arab Emirates         4\n",
       "           United Kingdom           14739\n",
       "           Unspecified                  2\n",
       "dtype: int64"
      ]
     },
     "execution_count": 16,
     "metadata": {},
     "output_type": "execute_result"
    }
   ],
   "source": [
    "Orders_1.groupby([\"Label\", \"Country\"]).size()"
   ]
  },
  {
   "cell_type": "code",
   "execution_count": 12,
   "metadata": {
    "ExecuteTime": {
     "end_time": "2021-04-02T15:59:15.112971Z",
     "start_time": "2021-04-02T15:59:15.108363Z"
    }
   },
   "outputs": [],
   "source": [
    "# The UK has the most  VIP customers"
   ]
  },
  {
   "cell_type": "markdown",
   "metadata": {},
   "source": [
    "## Q3: How to identify which country has the most VIP+Preferred Customers combined?"
   ]
  },
  {
   "cell_type": "code",
   "execution_count": 14,
   "metadata": {},
   "outputs": [],
   "source": [
    "pd.set_option('display.max_rows', 500)"
   ]
  },
  {
   "cell_type": "code",
   "execution_count": 15,
   "metadata": {
    "ExecuteTime": {
     "end_time": "2021-04-02T15:59:37.091639Z",
     "start_time": "2021-04-02T15:59:37.027212Z"
    },
    "scrolled": true
   },
   "outputs": [
    {
     "data": {
      "text/plain": [
       "Label      Country             \n",
       "casual     Australia                  342\n",
       "           Austria                    280\n",
       "           Bahrain                      6\n",
       "           Belgium                   1450\n",
       "           Brazil                      17\n",
       "           Canada                     118\n",
       "           Channel Islands            449\n",
       "           Cyprus                     420\n",
       "           Czech Republic               5\n",
       "           Denmark                    163\n",
       "           EIRE                      4576\n",
       "           European Community          37\n",
       "           Finland                    408\n",
       "           France                    5606\n",
       "           Germany                   6149\n",
       "           Greece                      97\n",
       "           Iceland                    115\n",
       "           Israel                     130\n",
       "           Italy                      492\n",
       "           Japan                       80\n",
       "           Lebanon                     18\n",
       "           Lithuania                    8\n",
       "           Malta                       82\n",
       "           Netherlands                436\n",
       "           Norway                     569\n",
       "           Poland                     218\n",
       "           Portugal                  1016\n",
       "           RSA                         40\n",
       "           Saudi Arabia                 9\n",
       "           Singapore                   68\n",
       "           Spain                     1886\n",
       "           Sweden                     181\n",
       "           Switzerland               1071\n",
       "           USA                        119\n",
       "           United Arab Emirates        32\n",
       "           United Kingdom          281401\n",
       "           Unspecified                208\n",
       "preferred  Australia                  272\n",
       "           Austria                     91\n",
       "           Bahrain                      9\n",
       "           Belgium                    542\n",
       "           Brazil                      12\n",
       "           Canada                      30\n",
       "           Channel Islands            268\n",
       "           Cyprus                     170\n",
       "           Czech Republic              19\n",
       "           Denmark                    155\n",
       "           EIRE                      1947\n",
       "           European Community          23\n",
       "           Finland                    215\n",
       "           France                    2343\n",
       "           Germany                   2382\n",
       "           Greece                      28\n",
       "           Iceland                     60\n",
       "           Israel                      90\n",
       "           Italy                      247\n",
       "           Japan                       69\n",
       "           Lebanon                     21\n",
       "           Lithuania                   20\n",
       "           Malta                       26\n",
       "           Netherlands                459\n",
       "           Norway                     389\n",
       "           Poland                     102\n",
       "           Portugal                   405\n",
       "           RSA                         18\n",
       "           Saudi Arabia                 0\n",
       "           Singapore                  113\n",
       "           Spain                      470\n",
       "           Sweden                      93\n",
       "           Switzerland                592\n",
       "           USA                         56\n",
       "           United Arab Emirates        32\n",
       "           United Kingdom           58205\n",
       "           Unspecified                 34\n",
       "VIP        Australia                  571\n",
       "           Austria                     27\n",
       "           Bahrain                      2\n",
       "           Belgium                     39\n",
       "           Brazil                       3\n",
       "           Canada                       3\n",
       "           Channel Islands             31\n",
       "           Cyprus                      24\n",
       "           Czech Republic               1\n",
       "           Denmark                     62\n",
       "           EIRE                       715\n",
       "           European Community           0\n",
       "           Finland                     62\n",
       "           France                     393\n",
       "           Germany                    511\n",
       "           Greece                      20\n",
       "           Iceland                      7\n",
       "           Israel                      28\n",
       "           Italy                       19\n",
       "           Japan                      172\n",
       "           Lebanon                      6\n",
       "           Lithuania                    7\n",
       "           Malta                        4\n",
       "           Netherlands               1468\n",
       "           Norway                     114\n",
       "           Poland                      10\n",
       "           Portugal                    41\n",
       "           RSA                          0\n",
       "           Saudi Arabia                 0\n",
       "           Singapore                   41\n",
       "           Spain                      129\n",
       "           Sweden                     177\n",
       "           Switzerland                179\n",
       "           USA                          4\n",
       "           United Arab Emirates         4\n",
       "           United Kingdom           14739\n",
       "           Unspecified                  2\n",
       "dtype: int64"
      ]
     },
     "execution_count": 15,
     "metadata": {},
     "output_type": "execute_result"
    }
   ],
   "source": [
    "Orders_1.groupby([\"Label\", \"Country\"]).size()"
   ]
  },
  {
   "cell_type": "code",
   "execution_count": null,
   "metadata": {},
   "outputs": [],
   "source": [
    "# The UK has the most  VIP+ preferred customers"
   ]
  }
 ],
 "metadata": {
  "kernelspec": {
   "display_name": "Python 3",
   "language": "python",
   "name": "python3"
  },
  "language_info": {
   "codemirror_mode": {
    "name": "ipython",
    "version": 3
   },
   "file_extension": ".py",
   "mimetype": "text/x-python",
   "name": "python",
   "nbconvert_exporter": "python",
   "pygments_lexer": "ipython3",
   "version": "3.8.5"
  },
  "toc": {
   "base_numbering": 1,
   "nav_menu": {},
   "number_sections": true,
   "sideBar": true,
   "skip_h1_title": false,
   "title_cell": "Table of Contents",
   "title_sidebar": "Contents",
   "toc_cell": false,
   "toc_position": {},
   "toc_section_display": true,
   "toc_window_display": false
  },
  "varInspector": {
   "cols": {
    "lenName": 16,
    "lenType": 16,
    "lenVar": 40
   },
   "kernels_config": {
    "python": {
     "delete_cmd_postfix": "",
     "delete_cmd_prefix": "del ",
     "library": "var_list.py",
     "varRefreshCmd": "print(var_dic_list())"
    },
    "r": {
     "delete_cmd_postfix": ") ",
     "delete_cmd_prefix": "rm(",
     "library": "var_list.r",
     "varRefreshCmd": "cat(var_dic_list()) "
    }
   },
   "types_to_exclude": [
    "module",
    "function",
    "builtin_function_or_method",
    "instance",
    "_Feature"
   ],
   "window_display": false
  }
 },
 "nbformat": 4,
 "nbformat_minor": 2
}
